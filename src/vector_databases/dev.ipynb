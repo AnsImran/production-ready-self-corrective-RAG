{
 "cells": [
  {
   "cell_type": "code",
   "execution_count": 1,
   "id": "f291c110-ca44-49b6-ab25-5315ce4d3498",
   "metadata": {},
   "outputs": [],
   "source": [
    "# 1) Make sure the .env from the repo root is loaded into the current process\n",
    "from dotenv import load_dotenv, find_dotenv\n",
    "load_dotenv(find_dotenv(\".env\", usecwd=True))  # searches upward from CWD\n",
    "\n",
    "import os\n",
    "assert os.getenv(\"OPENAI_API_KEY\"), \"OPENAI_API_KEY not found after loading .env\"\n",
    "\n",
    "# 2) Ensure the project 'src' is on sys.path\n",
    "import sys, os\n",
    "sys.path.insert(0, os.path.abspath(\"..\"))  # now 'src' is on path\n",
    "\n",
    "# # --- Option A: import via the package (may import other agents too)\n",
    "# from agents.interrupt_agent import interrupt_agent\n"
   ]
  },
  {
   "cell_type": "code",
   "execution_count": 2,
   "id": "c983d3a2-fb74-493f-9cc0-6e8ce5f3afde",
   "metadata": {},
   "outputs": [],
   "source": [
    "from vector_databases.local_pinecone import (\n",
    "    add_documents_to_vectorstore_pinecone,\n",
    "    get_async_index_pinecone,\n",
    "    get_docs_pinecone,\n",
    "    load_existing_vectorstore_pinecone,\n",
    "    query_pinecone,\n",
    "    query_and_rerank_pinecone,\n",
    "    result_reranker_pinecone\n",
    ")\n",
    "\n",
    "# from core import get_model, settings\n",
    "\n",
    "\n",
    "\n",
    "\n"
   ]
  },
  {
   "cell_type": "code",
   "execution_count": 3,
   "id": "5536602f-9ebd-4a34-b740-bcd23df9792a",
   "metadata": {},
   "outputs": [],
   "source": []
  },
  {
   "cell_type": "code",
   "execution_count": null,
   "id": "f18d83d6-71c6-4473-ba6d-bf7f7dc9ebe4",
   "metadata": {},
   "outputs": [],
   "source": []
  },
  {
   "cell_type": "code",
   "execution_count": null,
   "id": "a46e3f72-71bf-4e7d-af81-496eb6d271bb",
   "metadata": {},
   "outputs": [],
   "source": []
  },
  {
   "cell_type": "code",
   "execution_count": null,
   "id": "7a875741-5f94-4229-a525-77a990013f05",
   "metadata": {},
   "outputs": [],
   "source": []
  },
  {
   "cell_type": "code",
   "execution_count": 3,
   "id": "171d9853-e830-4d09-be04-a96fc9ee5901",
   "metadata": {},
   "outputs": [],
   "source": [
    "from local_pinecone.query_and_rerank_pinecone import async_query_and_rerank_pinecone\n"
   ]
  },
  {
   "cell_type": "code",
   "execution_count": null,
   "id": "5a615566-ecee-4401-a65a-9937b1d48fee",
   "metadata": {},
   "outputs": [],
   "source": []
  },
  {
   "cell_type": "code",
   "execution_count": null,
   "id": "7743e3e4-97d7-41a5-a1d6-8e5183ec8196",
   "metadata": {},
   "outputs": [],
   "source": []
  },
  {
   "cell_type": "code",
   "execution_count": null,
   "id": "72d8323d-7ab8-461f-a8d6-103620755139",
   "metadata": {},
   "outputs": [],
   "source": [
    "from modules.sub_agent_fns.get_docs_pinecone import get_docs_pinecone\n",
    "\n",
    "from postgres.time \n",
    "\n",
    "\n",
    "\n",
    "__all__ = [\"get_agent\", \"get_all_agent_info\", \"DEFAULT_AGENT\", \"AgentGraph\"]\n"
   ]
  },
  {
   "cell_type": "code",
   "execution_count": null,
   "id": "8d6dd19d-d09e-4cc0-9b24-3835eb6f4047",
   "metadata": {},
   "outputs": [],
   "source": []
  },
  {
   "cell_type": "code",
   "execution_count": 2,
   "id": "b86b5804-701a-4fc8-8798-89d59ed2608b",
   "metadata": {},
   "outputs": [],
   "source": [
    "# add <repo-root>/src to sys.path\n",
    "import sys\n",
    "from pathlib import Path\n",
    "\n",
    "ROOT = Path().resolve().parents[1]      # repo root\n",
    "sys.path.insert(0, str(ROOT / \"src\"))   # -> .../<repo>/src\n",
    "\n",
    "from core import get_model, settings\n"
   ]
  },
  {
   "cell_type": "code",
   "execution_count": null,
   "id": "18a1ec7c-a9d2-4ed5-a915-d7c583047770",
   "metadata": {},
   "outputs": [],
   "source": []
  },
  {
   "cell_type": "code",
   "execution_count": null,
   "id": "60048ab1-df08-4dec-89de-1d78ba33fbac",
   "metadata": {},
   "outputs": [],
   "source": []
  },
  {
   "cell_type": "code",
   "execution_count": null,
   "id": "c37791ba-0088-4ada-9175-529c78e915bc",
   "metadata": {},
   "outputs": [],
   "source": []
  },
  {
   "cell_type": "code",
   "execution_count": null,
   "id": "fcf833a8-a8af-41a6-9e13-ac5beacee8bd",
   "metadata": {},
   "outputs": [],
   "source": []
  },
  {
   "cell_type": "code",
   "execution_count": null,
   "id": "c729812b-4591-4d85-98ed-3bb82b877aac",
   "metadata": {},
   "outputs": [],
   "source": []
  },
  {
   "cell_type": "code",
   "execution_count": null,
   "id": "fdb550aa-a402-4957-8399-15b82c74247a",
   "metadata": {},
   "outputs": [],
   "source": []
  },
  {
   "cell_type": "code",
   "execution_count": null,
   "id": "32ebda71-362c-48b5-b3f3-f724dd2317ea",
   "metadata": {},
   "outputs": [],
   "source": []
  },
  {
   "cell_type": "code",
   "execution_count": null,
   "id": "4b726825-b7b6-4bf2-86b9-efb194d7c294",
   "metadata": {},
   "outputs": [],
   "source": []
  },
  {
   "cell_type": "code",
   "execution_count": null,
   "id": "798fc5c2-f260-4ee8-843f-ca1ffbfabbba",
   "metadata": {},
   "outputs": [],
   "source": []
  },
  {
   "cell_type": "code",
   "execution_count": null,
   "id": "7b2f7325-39e2-4720-9bc9-4bbaf98d4449",
   "metadata": {},
   "outputs": [],
   "source": []
  },
  {
   "cell_type": "code",
   "execution_count": null,
   "id": "0ad4958e-35c1-4d18-aeb8-a0b4008fd54d",
   "metadata": {},
   "outputs": [],
   "source": []
  },
  {
   "cell_type": "code",
   "execution_count": null,
   "id": "3c779a23-87ac-4430-951e-dba3ffe1a732",
   "metadata": {},
   "outputs": [],
   "source": []
  },
  {
   "cell_type": "code",
   "execution_count": null,
   "id": "815716e9-43fa-4817-bbd3-8f931a5aaac8",
   "metadata": {},
   "outputs": [],
   "source": []
  },
  {
   "cell_type": "code",
   "execution_count": null,
   "id": "28de9ead-e115-4a0b-a3cc-538489de9d11",
   "metadata": {},
   "outputs": [],
   "source": []
  },
  {
   "cell_type": "code",
   "execution_count": null,
   "id": "9c607d52-8075-4f0d-a00a-e68158c64c44",
   "metadata": {},
   "outputs": [],
   "source": []
  },
  {
   "cell_type": "code",
   "execution_count": null,
   "id": "39d95141-f254-4930-a41f-6873aea44544",
   "metadata": {},
   "outputs": [],
   "source": []
  },
  {
   "cell_type": "code",
   "execution_count": null,
   "id": "8ef25361-a9b8-476b-86d2-78dc3386654f",
   "metadata": {},
   "outputs": [],
   "source": []
  },
  {
   "cell_type": "code",
   "execution_count": null,
   "id": "3e2e4ec0-edf1-4b0e-a201-ddc4b5b8fd74",
   "metadata": {},
   "outputs": [],
   "source": []
  },
  {
   "cell_type": "code",
   "execution_count": null,
   "id": "998ff3cb-4cfc-4643-805a-035ed6cd70f8",
   "metadata": {},
   "outputs": [],
   "source": []
  },
  {
   "cell_type": "code",
   "execution_count": null,
   "id": "00ab7c5e-f096-47d9-a909-44d97bfe4c57",
   "metadata": {},
   "outputs": [],
   "source": []
  },
  {
   "cell_type": "code",
   "execution_count": null,
   "id": "6e3e7ebd-b8f4-4881-84db-5fb551cf47bd",
   "metadata": {},
   "outputs": [],
   "source": []
  },
  {
   "cell_type": "code",
   "execution_count": null,
   "id": "5e7c5204-6c86-4d45-82a3-1c6022711f2b",
   "metadata": {},
   "outputs": [],
   "source": []
  },
  {
   "cell_type": "code",
   "execution_count": null,
   "id": "fabd32f7-604d-41bd-a993-3e6cff66fade",
   "metadata": {},
   "outputs": [],
   "source": []
  },
  {
   "cell_type": "code",
   "execution_count": null,
   "id": "aefb9436-ccb5-455f-a398-b7f0be238a7e",
   "metadata": {},
   "outputs": [],
   "source": []
  },
  {
   "cell_type": "code",
   "execution_count": null,
   "id": "184180f0-351d-4d30-806a-e05f93b237d7",
   "metadata": {},
   "outputs": [],
   "source": []
  },
  {
   "cell_type": "code",
   "execution_count": null,
   "id": "cffda615-ffc2-46ee-abf5-9efa9e21227d",
   "metadata": {},
   "outputs": [],
   "source": []
  },
  {
   "cell_type": "code",
   "execution_count": null,
   "id": "c96fa039-4df4-4d94-a9f0-d8d0cd216613",
   "metadata": {},
   "outputs": [],
   "source": []
  },
  {
   "cell_type": "code",
   "execution_count": null,
   "id": "73553ac9-1408-44e7-9cb0-2f0d4f85bf97",
   "metadata": {},
   "outputs": [],
   "source": []
  }
 ],
 "metadata": {
  "kernelspec": {
   "display_name": "Python 3 (ipykernel)",
   "language": "python",
   "name": "python3"
  },
  "language_info": {
   "codemirror_mode": {
    "name": "ipython",
    "version": 3
   },
   "file_extension": ".py",
   "mimetype": "text/x-python",
   "name": "python",
   "nbconvert_exporter": "python",
   "pygments_lexer": "ipython3",
   "version": "3.13.3"
  }
 },
 "nbformat": 4,
 "nbformat_minor": 5
}
